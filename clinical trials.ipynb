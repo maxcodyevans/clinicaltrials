{
 "cells": [
  {
   "cell_type": "code",
   "execution_count": 4,
   "id": "d8556349",
   "metadata": {},
   "outputs": [],
   "source": [
    "from pytrials.client import ClinicalTrials\n",
    "import pandas as pd\n",
    "\n",
    "ct = ClinicalTrials()"
   ]
  },
  {
   "cell_type": "code",
   "execution_count": 7,
   "id": "3042ac74",
   "metadata": {},
   "outputs": [
    {
     "data": {
      "text/plain": [
       "1095"
      ]
     },
     "execution_count": 7,
     "metadata": {},
     "output_type": "execute_result"
    }
   ],
   "source": [
    "# Get 50 full studies related to Coronavirus and COVID in json format.\n",
    "ct.get_study_count(search_expr=\"bronchoscopy\")\n"
   ]
  },
  {
   "cell_type": "code",
   "execution_count": 8,
   "id": "203c6d75",
   "metadata": {},
   "outputs": [],
   "source": [
    "# Get the NCTId, Condition and Brief title fields from 500 studies related to Coronavirus and Covid, in csv format.\n",
    "data = ct.get_study_fields(\n",
    "    search_expr=\"bronchoscopy\",\n",
    "    fields=[\"NCTId\", \"Condition\", \"BriefTitle\"],\n",
    "    max_studies=500,\n",
    "    fmt=\"csv\",\n",
    ")"
   ]
  },
  {
   "cell_type": "code",
   "execution_count": 9,
   "id": "8a6f3887",
   "metadata": {},
   "outputs": [
    {
     "data": {
      "text/html": [
       "<div>\n",
       "<style scoped>\n",
       "    .dataframe tbody tr th:only-of-type {\n",
       "        vertical-align: middle;\n",
       "    }\n",
       "\n",
       "    .dataframe tbody tr th {\n",
       "        vertical-align: top;\n",
       "    }\n",
       "\n",
       "    .dataframe thead th {\n",
       "        text-align: right;\n",
       "    }\n",
       "</style>\n",
       "<table border=\"1\" class=\"dataframe\">\n",
       "  <thead>\n",
       "    <tr style=\"text-align: right;\">\n",
       "      <th></th>\n",
       "      <th>Rank</th>\n",
       "      <th>NCTId</th>\n",
       "      <th>Condition</th>\n",
       "      <th>BriefTitle</th>\n",
       "    </tr>\n",
       "  </thead>\n",
       "  <tbody>\n",
       "    <tr>\n",
       "      <th>0</th>\n",
       "      <td>1</td>\n",
       "      <td>NCT02741089</td>\n",
       "      <td>Indications for Flexible Bronchoscopy</td>\n",
       "      <td>Bronchoscopy Registry</td>\n",
       "    </tr>\n",
       "    <tr>\n",
       "      <th>1</th>\n",
       "      <td>2</td>\n",
       "      <td>NCT00846352</td>\n",
       "      <td>Bone Marrow Transplantation</td>\n",
       "      <td>Early Versus Late Bronchoscopy in Bone Marrow ...</td>\n",
       "    </tr>\n",
       "    <tr>\n",
       "      <th>2</th>\n",
       "      <td>3</td>\n",
       "      <td>NCT00997555</td>\n",
       "      <td>Inhalation Injury|Pneumonitis|Pneumonia</td>\n",
       "      <td>Prophylactic Bronchoscopy After Inhalation Inj...</td>\n",
       "    </tr>\n",
       "    <tr>\n",
       "      <th>3</th>\n",
       "      <td>4</td>\n",
       "      <td>NCT05634200</td>\n",
       "      <td>Hemoptysis</td>\n",
       "      <td>Utility of Bronchoscopy in Patients With Haemo...</td>\n",
       "    </tr>\n",
       "    <tr>\n",
       "      <th>4</th>\n",
       "      <td>5</td>\n",
       "      <td>NCT01294813</td>\n",
       "      <td>Electric Impedance Tomography|Bronchoscopy|Cha...</td>\n",
       "      <td>Bronchoscopy and Electric Impedance Tomography...</td>\n",
       "    </tr>\n",
       "    <tr>\n",
       "      <th>...</th>\n",
       "      <td>...</td>\n",
       "      <td>...</td>\n",
       "      <td>...</td>\n",
       "      <td>...</td>\n",
       "    </tr>\n",
       "    <tr>\n",
       "      <th>495</th>\n",
       "      <td>496</td>\n",
       "      <td>NCT02277145</td>\n",
       "      <td>Post-radiotherapy Pulmonary Fibrosis</td>\n",
       "      <td>A Study on Radiation-induced Pulmonary Fibrosi...</td>\n",
       "    </tr>\n",
       "    <tr>\n",
       "      <th>496</th>\n",
       "      <td>497</td>\n",
       "      <td>NCT05447832</td>\n",
       "      <td>Wheezing|Respiratory Sounds</td>\n",
       "      <td>Remote Monitoring in Preschool Wheeze</td>\n",
       "    </tr>\n",
       "    <tr>\n",
       "      <th>497</th>\n",
       "      <td>498</td>\n",
       "      <td>NCT02631720</td>\n",
       "      <td>Lung Transplant|Post Lung Transplantation</td>\n",
       "      <td>CLAD Phenotype Specific Risk Factors and Mecha...</td>\n",
       "    </tr>\n",
       "    <tr>\n",
       "      <th>498</th>\n",
       "      <td>499</td>\n",
       "      <td>NCT03111121</td>\n",
       "      <td>Microlaryngoscopy|Rigid Bronchoscopy</td>\n",
       "      <td>Use of Sugammadex for Reversal of Paralysis in...</td>\n",
       "    </tr>\n",
       "    <tr>\n",
       "      <th>499</th>\n",
       "      <td>500</td>\n",
       "      <td>NCT01691612</td>\n",
       "      <td>Asthma</td>\n",
       "      <td>Role of the Isomerase Pin-1 in the Development...</td>\n",
       "    </tr>\n",
       "  </tbody>\n",
       "</table>\n",
       "<p>500 rows × 4 columns</p>\n",
       "</div>"
      ],
      "text/plain": [
       "    Rank        NCTId                                          Condition  \\\n",
       "0      1  NCT02741089              Indications for Flexible Bronchoscopy   \n",
       "1      2  NCT00846352                        Bone Marrow Transplantation   \n",
       "2      3  NCT00997555            Inhalation Injury|Pneumonitis|Pneumonia   \n",
       "3      4  NCT05634200                                         Hemoptysis   \n",
       "4      5  NCT01294813  Electric Impedance Tomography|Bronchoscopy|Cha...   \n",
       "..   ...          ...                                                ...   \n",
       "495  496  NCT02277145               Post-radiotherapy Pulmonary Fibrosis   \n",
       "496  497  NCT05447832                        Wheezing|Respiratory Sounds   \n",
       "497  498  NCT02631720          Lung Transplant|Post Lung Transplantation   \n",
       "498  499  NCT03111121               Microlaryngoscopy|Rigid Bronchoscopy   \n",
       "499  500  NCT01691612                                             Asthma   \n",
       "\n",
       "                                            BriefTitle  \n",
       "0                                Bronchoscopy Registry  \n",
       "1    Early Versus Late Bronchoscopy in Bone Marrow ...  \n",
       "2    Prophylactic Bronchoscopy After Inhalation Inj...  \n",
       "3    Utility of Bronchoscopy in Patients With Haemo...  \n",
       "4    Bronchoscopy and Electric Impedance Tomography...  \n",
       "..                                                 ...  \n",
       "495  A Study on Radiation-induced Pulmonary Fibrosi...  \n",
       "496              Remote Monitoring in Preschool Wheeze  \n",
       "497  CLAD Phenotype Specific Risk Factors and Mecha...  \n",
       "498  Use of Sugammadex for Reversal of Paralysis in...  \n",
       "499  Role of the Isomerase Pin-1 in the Development...  \n",
       "\n",
       "[500 rows x 4 columns]"
      ]
     },
     "execution_count": 9,
     "metadata": {},
     "output_type": "execute_result"
    }
   ],
   "source": [
    "pd.DataFrame.from_records(data[1:], columns=data[0])"
   ]
  },
  {
   "cell_type": "code",
   "execution_count": 11,
   "id": "c64196cd",
   "metadata": {},
   "outputs": [],
   "source": [
    "fullstudy=ct.get_full_studies(search_expr=\"bronchoscopy\", max_studies=2)"
   ]
  },
  {
   "cell_type": "code",
   "execution_count": 13,
   "id": "7c53d5c6",
   "metadata": {},
   "outputs": [
    {
     "data": {
      "text/html": [
       "<div>\n",
       "<style scoped>\n",
       "    .dataframe tbody tr th:only-of-type {\n",
       "        vertical-align: middle;\n",
       "    }\n",
       "\n",
       "    .dataframe tbody tr th {\n",
       "        vertical-align: top;\n",
       "    }\n",
       "\n",
       "    .dataframe thead th {\n",
       "        text-align: right;\n",
       "    }\n",
       "</style>\n",
       "<table border=\"1\" class=\"dataframe\">\n",
       "  <thead>\n",
       "    <tr style=\"text-align: right;\">\n",
       "      <th></th>\n",
       "      <th>FullStudiesResponse</th>\n",
       "    </tr>\n",
       "  </thead>\n",
       "  <tbody>\n",
       "    <tr>\n",
       "      <th>APIVrs</th>\n",
       "      <td>1.01.05</td>\n",
       "    </tr>\n",
       "    <tr>\n",
       "      <th>DataVrs</th>\n",
       "      <td>2023:09:01 00:57:01.523</td>\n",
       "    </tr>\n",
       "    <tr>\n",
       "      <th>Expression</th>\n",
       "      <td>bronchoscopy</td>\n",
       "    </tr>\n",
       "    <tr>\n",
       "      <th>FullStudies</th>\n",
       "      <td>[{'Rank': 1, 'Study': {'ProtocolSection': {'Id...</td>\n",
       "    </tr>\n",
       "    <tr>\n",
       "      <th>MaxRank</th>\n",
       "      <td>2</td>\n",
       "    </tr>\n",
       "    <tr>\n",
       "      <th>MinRank</th>\n",
       "      <td>1</td>\n",
       "    </tr>\n",
       "    <tr>\n",
       "      <th>NStudiesAvail</th>\n",
       "      <td>464667</td>\n",
       "    </tr>\n",
       "    <tr>\n",
       "      <th>NStudiesFound</th>\n",
       "      <td>1095</td>\n",
       "    </tr>\n",
       "    <tr>\n",
       "      <th>NStudiesReturned</th>\n",
       "      <td>2</td>\n",
       "    </tr>\n",
       "  </tbody>\n",
       "</table>\n",
       "</div>"
      ],
      "text/plain": [
       "                                                FullStudiesResponse\n",
       "APIVrs                                                      1.01.05\n",
       "DataVrs                                     2023:09:01 00:57:01.523\n",
       "Expression                                             bronchoscopy\n",
       "FullStudies       [{'Rank': 1, 'Study': {'ProtocolSection': {'Id...\n",
       "MaxRank                                                           2\n",
       "MinRank                                                           1\n",
       "NStudiesAvail                                                464667\n",
       "NStudiesFound                                                  1095\n",
       "NStudiesReturned                                                  2"
      ]
     },
     "execution_count": 13,
     "metadata": {},
     "output_type": "execute_result"
    }
   ],
   "source": [
    "pd.DataFrame.from_records(fullstudy)"
   ]
  },
  {
   "cell_type": "code",
   "execution_count": 15,
   "id": "de20563d",
   "metadata": {},
   "outputs": [
    {
     "ename": "KeyError",
     "evalue": "1",
     "output_type": "error",
     "traceback": [
      "\u001b[0;31m---------------------------------------------------------------------------\u001b[0m",
      "\u001b[0;31mKeyError\u001b[0m                                  Traceback (most recent call last)",
      "\u001b[0;32m/var/folders/bp/2_30hznd5tg88p5qhhbn0dp80000gn/T/ipykernel_76569/553540955.py\u001b[0m in \u001b[0;36m<module>\u001b[0;34m\u001b[0m\n\u001b[0;32m----> 1\u001b[0;31m \u001b[0mpd\u001b[0m\u001b[0;34m.\u001b[0m\u001b[0mDataFrame\u001b[0m\u001b[0;34m.\u001b[0m\u001b[0mfrom_records\u001b[0m\u001b[0;34m(\u001b[0m\u001b[0mfullstudy\u001b[0m\u001b[0;34m[\u001b[0m\u001b[0;36m1\u001b[0m\u001b[0;34m]\u001b[0m\u001b[0;34m)\u001b[0m\u001b[0;34m\u001b[0m\u001b[0;34m\u001b[0m\u001b[0m\n\u001b[0m",
      "\u001b[0;31mKeyError\u001b[0m: 1"
     ]
    }
   ],
   "source": [
    "pd.DataFrame.from_records(fullstudy[1])"
   ]
  },
  {
   "cell_type": "code",
   "execution_count": null,
   "id": "2bc7650b",
   "metadata": {},
   "outputs": [],
   "source": []
  }
 ],
 "metadata": {
  "kernelspec": {
   "display_name": "Python 3 (ipykernel)",
   "language": "python",
   "name": "python3"
  },
  "language_info": {
   "codemirror_mode": {
    "name": "ipython",
    "version": 3
   },
   "file_extension": ".py",
   "mimetype": "text/x-python",
   "name": "python",
   "nbconvert_exporter": "python",
   "pygments_lexer": "ipython3",
   "version": "3.9.7"
  }
 },
 "nbformat": 4,
 "nbformat_minor": 5
}
